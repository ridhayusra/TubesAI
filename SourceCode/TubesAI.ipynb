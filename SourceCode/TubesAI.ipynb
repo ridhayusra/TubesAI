{
  "cells": [
    {
      "cell_type": "code",
      "execution_count": 26,
      "metadata": {
        "colab": {
          "base_uri": "https://localhost:8080/"
        },
        "id": "1Az5c4QvlkG3",
        "outputId": "2cdf7c9a-7420-4d87-e456-843384e3e723"
      },
      "outputs": [
        {
          "output_type": "stream",
          "name": "stdout",
          "text": [
            "--2022-01-02 05:04:08--  https://github.com/ridhayusra/TubesAI/raw/main/Dataset.zip\n",
            "Resolving github.com (github.com)... 140.82.112.3\n",
            "Connecting to github.com (github.com)|140.82.112.3|:443... connected.\n",
            "HTTP request sent, awaiting response... 302 Found\n",
            "Location: https://raw.githubusercontent.com/ridhayusra/TubesAI/main/Dataset.zip [following]\n",
            "--2022-01-02 05:04:08--  https://raw.githubusercontent.com/ridhayusra/TubesAI/main/Dataset.zip\n",
            "Resolving raw.githubusercontent.com (raw.githubusercontent.com)... 185.199.108.133, 185.199.109.133, 185.199.110.133, ...\n",
            "Connecting to raw.githubusercontent.com (raw.githubusercontent.com)|185.199.108.133|:443... connected.\n",
            "HTTP request sent, awaiting response... 200 OK\n",
            "Length: 88276462 (84M) [application/zip]\n",
            "Saving to: ‘/tmp/Dataset.zip’\n",
            "\n",
            "/tmp/Dataset.zip    100%[===================>]  84.19M   222MB/s    in 0.4s    \n",
            "\n",
            "2022-01-02 05:04:09 (222 MB/s) - ‘/tmp/Dataset.zip’ saved [88276462/88276462]\n",
            "\n"
          ]
        }
      ],
      "source": [
        "!wget --no-check-certificate \\\n",
        "    https://github.com/ridhayusra/TubesAI/raw/main/Dataset.zip \\\n",
        "    -O /tmp/Dataset.zip"
      ]
    },
    {
      "cell_type": "code",
      "execution_count": 27,
      "metadata": {
        "colab": {
          "base_uri": "https://localhost:8080/"
        },
        "id": "JMrpW1xVlqHc",
        "outputId": "c75dddbc-fd8c-409e-fee4-4ad5150c235d"
      },
      "outputs": [
        {
          "output_type": "stream",
          "name": "stdout",
          "text": [
            "Drive already mounted at /content/drive; to attempt to forcibly remount, call drive.mount(\"/content/drive\", force_remount=True).\n"
          ]
        }
      ],
      "source": [
        "from google.colab import drive\n",
        "drive.mount('/content/drive')"
      ]
    },
    {
      "cell_type": "code",
      "execution_count": 28,
      "metadata": {
        "id": "9ZxFbBbGlth2"
      },
      "outputs": [],
      "source": [
        "# Extract file zip dataset\n",
        "\n",
        "import os\n",
        "import zipfile\n",
        "\n",
        "local_zip = '/tmp/Dataset.zip'\n",
        "zip_ref = zipfile.ZipFile(local_zip, 'r')\n",
        "zip_ref.extractall('/tmp')\n",
        "zip_ref.close()\n"
      ]
    },
    {
      "cell_type": "code",
      "execution_count": 29,
      "metadata": {
        "id": "JOgwxmnMlzVc"
      },
      "outputs": [],
      "source": [
        "base_dir = '/tmp/Dataset'\n",
        "train_dir = os.path.join(base_dir, 'Train')\n",
        "val_dir = os.path.join(base_dir, 'Validation')\n"
      ]
    },
    {
      "cell_type": "code",
      "execution_count": 30,
      "metadata": {
        "colab": {
          "base_uri": "https://localhost:8080/"
        },
        "id": "ouZdEgghl3hJ",
        "outputId": "df52069a-c2c7-4109-be80-d3bf879c2ed3"
      },
      "outputs": [
        {
          "output_type": "stream",
          "name": "stdout",
          "text": [
            "jumlah dataset Training :  148\n",
            "jumlah dataset validasi :  40\n",
            "\n",
            "\n",
            "\n",
            "jumlah train kelas NORMAL :  74\n",
            "jumlah train kelas PNEUMONIA :  74\n",
            "jumlah validasi kelas NORMAL :  20\n",
            "jumlah validasi kelas PNEUMONIA :  20\n"
          ]
        }
      ],
      "source": [
        "NORMAL_train_path = train_dir + '/NORMAL'\n",
        "PNEUMONIA_train_path = train_dir + '/PNEUMONIA'\n",
        "NORMAL_val_path = val_dir + '/NORMAL'\n",
        "PNEUMONIA_val_path = val_dir + '/PNEUMONIA'\n",
        "\n",
        "\n",
        "NORMAL_len_train = len(os.listdir(NORMAL_train_path))\n",
        "PNEUMONIA_len_train = len(os.listdir(PNEUMONIA_train_path))\n",
        "NORMAL_len_val = len(os.listdir(NORMAL_val_path))\n",
        "PNEUMONIA_len_val = len(os.listdir(PNEUMONIA_val_path))\n",
        "\n",
        "print(\"jumlah dataset Training : \", NORMAL_len_train + PNEUMONIA_len_train)\n",
        "print(\"jumlah dataset validasi : \", NORMAL_len_val + PNEUMONIA_len_val)\n",
        "print(\"\\n\\n\")\n",
        "print(\"jumlah train kelas NORMAL : \", NORMAL_len_train)\n",
        "print(\"jumlah train kelas PNEUMONIA : \", PNEUMONIA_len_train)\n",
        "print(\"jumlah validasi kelas NORMAL : \", NORMAL_len_val)\n",
        "print(\"jumlah validasi kelas PNEUMONIA : \", PNEUMONIA_len_val)"
      ]
    },
    {
      "cell_type": "code",
      "execution_count": 31,
      "metadata": {
        "id": "FVk8Alhzl7cJ"
      },
      "outputs": [],
      "source": [
        "import tensorflow as tf\n",
        "from tensorflow.keras.optimizers import Adam\n",
        "from tensorflow.keras.preprocessing.image import ImageDataGenerator\n"
      ]
    },
    {
      "cell_type": "code",
      "execution_count": 32,
      "metadata": {
        "colab": {
          "base_uri": "https://localhost:8080/"
        },
        "id": "DQsU9OgVl7gf",
        "outputId": "3307d3ad-2b0e-4332-d86f-10dac8f9a989"
      },
      "outputs": [
        {
          "output_type": "stream",
          "name": "stdout",
          "text": [
            "Found 148 images belonging to 2 classes.\n",
            "Found 40 images belonging to 2 classes.\n"
          ]
        }
      ],
      "source": [
        "train_datagen = ImageDataGenerator(\n",
        "      rescale=1./255,\n",
        "      rotation_range=40,\n",
        "      width_shift_range=0.2,\n",
        "      height_shift_range=0.2,\n",
        "      shear_range=0.2,\n",
        "      zoom_range=0.2,\n",
        "      horizontal_flip=True,\n",
        "      fill_mode='nearest')\n",
        "\n",
        "test_datagen = ImageDataGenerator(rescale=1./255)\n",
        "\n",
        "train_generator = train_datagen.flow_from_directory(\n",
        "        train_dir,\n",
        "        target_size=(224, 224),\n",
        "        batch_size=20,\n",
        "        class_mode='binary')\n",
        "\n",
        "validation_generator = test_datagen.flow_from_directory(\n",
        "        val_dir,\n",
        "        target_size=(224, 224),\n",
        "        batch_size=20,\n",
        "        class_mode='binary')\n"
      ]
    },
    {
      "cell_type": "code",
      "execution_count": 33,
      "metadata": {
        "id": "9AWznypipf20"
      },
      "outputs": [],
      "source": [
        "'''\n",
        "Import Library yang dibutuhkan\n",
        "'''\n",
        "\n",
        "from tensorflow.keras.models import Sequential\n",
        "from tensorflow.keras.layers import InputLayer, Dense, Flatten,Dropout, BatchNormalization\n",
        "import tensorflow as tf\n",
        "from tensorflow.keras.models import Model\n",
        "from tensorflow.keras.optimizers import Adam\n",
        "from tensorflow.keras.callbacks import EarlyStopping, ModelCheckpoint"
      ]
    },
    {
      "cell_type": "code",
      "execution_count": 34,
      "metadata": {
        "id": "eyV8003Cpkfo"
      },
      "outputs": [],
      "source": [
        "'''\n",
        "definisikan dan setting callback untuk :\n",
        "1. memantau performa model\n",
        "2. melakukan save model terbaik menggunakan model checkpoint\n",
        "3. memberhentikan pelatihan ketika tidak memnuhi syarat dalam parameter earlystopping\n",
        "'''\n",
        "\n",
        "callbacks = EarlyStopping(monitor='val_loss', patience=15, verbose=1, mode='auto')        \n",
        "directory_to_save_best_model_file = '/content/gdrive/MyDrive/Colab Notebooks/TugasBesar/model_drop_batch_weight_from_callback_2.h5'\n",
        "best_model = ModelCheckpoint(directory_to_save_best_model_file, monitor='val_accuracy', verbose = 1, save_best_only = True)"
      ]
    },
    {
      "cell_type": "code",
      "execution_count": 35,
      "metadata": {
        "id": "WjLxIkPapm9G"
      },
      "outputs": [],
      "source": [
        "'''\n",
        "definisikan pretrained model yang ingin digunakan\n",
        "'''\n",
        "\n",
        "VGG16_base = tf.keras.applications.VGG16(include_top=False, weights='imagenet', #include_top = false , berarti fully connected layer akan dipidah dari arsitektur\n",
        "                                                 input_tensor=None, input_shape=(224, 224,3))"
      ]
    },
    {
      "cell_type": "code",
      "execution_count": 36,
      "metadata": {
        "id": "tg5a42m7pqDr"
      },
      "outputs": [],
      "source": [
        "'''\n",
        "melakukan setting bahwa model pretrained tidak akan dilatih ulang\n",
        "'''\n",
        "\n",
        "VGG16_base.trainable = False"
      ]
    },
    {
      "cell_type": "code",
      "execution_count": 37,
      "metadata": {
        "colab": {
          "base_uri": "https://localhost:8080/"
        },
        "id": "vAVo1Zb7ptD8",
        "outputId": "894de122-1a23-45ce-c40c-a4cf3a5849d5"
      },
      "outputs": [
        {
          "output_type": "stream",
          "name": "stdout",
          "text": [
            "Adding new layers\n",
            "New layers Finishing Added!!!!\n"
          ]
        }
      ],
      "source": [
        "'''\n",
        "mendefinisikan layer pada bagian fully connected layer\n",
        "'''\n",
        "\n",
        "print('Adding new layers')\n",
        "output = VGG16_base.get_layer(index = -1).output  \n",
        "output = Flatten()(output)\n",
        "output = Dense(256,activation = \"relu\")(output)\n",
        "output = BatchNormalization()(output)\n",
        "output = Dropout(0.5)(output)\n",
        "output = Dense(256,activation = \"relu\")(output)\n",
        "output = BatchNormalization()(output)\n",
        "output = Dropout(0.5)(output)\n",
        "output = Dense(1, activation='sigmoid')(output) \n",
        "print('New layers Finishing Added!!!!')"
      ]
    },
    {
      "cell_type": "code",
      "execution_count": 38,
      "metadata": {
        "colab": {
          "base_uri": "https://localhost:8080/"
        },
        "id": "rWXt1WdCpzPV",
        "outputId": "993f9c15-439c-4653-fe2e-cc9a1c08874a"
      },
      "outputs": [
        {
          "output_type": "stream",
          "name": "stdout",
          "text": [
            "Model: \"model_1\"\n",
            "_________________________________________________________________\n",
            " Layer (type)                Output Shape              Param #   \n",
            "=================================================================\n",
            " input_2 (InputLayer)        [(None, 224, 224, 3)]     0         \n",
            "                                                                 \n",
            " block1_conv1 (Conv2D)       (None, 224, 224, 64)      1792      \n",
            "                                                                 \n",
            " block1_conv2 (Conv2D)       (None, 224, 224, 64)      36928     \n",
            "                                                                 \n",
            " block1_pool (MaxPooling2D)  (None, 112, 112, 64)      0         \n",
            "                                                                 \n",
            " block2_conv1 (Conv2D)       (None, 112, 112, 128)     73856     \n",
            "                                                                 \n",
            " block2_conv2 (Conv2D)       (None, 112, 112, 128)     147584    \n",
            "                                                                 \n",
            " block2_pool (MaxPooling2D)  (None, 56, 56, 128)       0         \n",
            "                                                                 \n",
            " block3_conv1 (Conv2D)       (None, 56, 56, 256)       295168    \n",
            "                                                                 \n",
            " block3_conv2 (Conv2D)       (None, 56, 56, 256)       590080    \n",
            "                                                                 \n",
            " block3_conv3 (Conv2D)       (None, 56, 56, 256)       590080    \n",
            "                                                                 \n",
            " block3_pool (MaxPooling2D)  (None, 28, 28, 256)       0         \n",
            "                                                                 \n",
            " block4_conv1 (Conv2D)       (None, 28, 28, 512)       1180160   \n",
            "                                                                 \n",
            " block4_conv2 (Conv2D)       (None, 28, 28, 512)       2359808   \n",
            "                                                                 \n",
            " block4_conv3 (Conv2D)       (None, 28, 28, 512)       2359808   \n",
            "                                                                 \n",
            " block4_pool (MaxPooling2D)  (None, 14, 14, 512)       0         \n",
            "                                                                 \n",
            " block5_conv1 (Conv2D)       (None, 14, 14, 512)       2359808   \n",
            "                                                                 \n",
            " block5_conv2 (Conv2D)       (None, 14, 14, 512)       2359808   \n",
            "                                                                 \n",
            " block5_conv3 (Conv2D)       (None, 14, 14, 512)       2359808   \n",
            "                                                                 \n",
            " block5_pool (MaxPooling2D)  (None, 7, 7, 512)         0         \n",
            "                                                                 \n",
            " flatten_1 (Flatten)         (None, 25088)             0         \n",
            "                                                                 \n",
            " dense_3 (Dense)             (None, 256)               6422784   \n",
            "                                                                 \n",
            " batch_normalization_2 (Batc  (None, 256)              1024      \n",
            " hNormalization)                                                 \n",
            "                                                                 \n",
            " dropout_2 (Dropout)         (None, 256)               0         \n",
            "                                                                 \n",
            " dense_4 (Dense)             (None, 256)               65792     \n",
            "                                                                 \n",
            " batch_normalization_3 (Batc  (None, 256)              1024      \n",
            " hNormalization)                                                 \n",
            "                                                                 \n",
            " dropout_3 (Dropout)         (None, 256)               0         \n",
            "                                                                 \n",
            " dense_5 (Dense)             (None, 1)                 257       \n",
            "                                                                 \n",
            "=================================================================\n",
            "Total params: 21,205,569\n",
            "Trainable params: 6,489,857\n",
            "Non-trainable params: 14,715,712\n",
            "_________________________________________________________________\n"
          ]
        }
      ],
      "source": [
        "VGG16_model = Model(VGG16_base.input, output)\n",
        "\n",
        "VGG16_model.summary()"
      ]
    },
    {
      "cell_type": "code",
      "execution_count": 39,
      "metadata": {
        "id": "uHlXR-s9p29-"
      },
      "outputs": [],
      "source": [
        "VGG16_model.compile(optimizer=tf.keras.optimizers.Adam(learning_rate=0.0001), loss='binary_crossentropy', \n",
        "                        metrics =['accuracy'])"
      ]
    },
    {
      "cell_type": "code",
      "execution_count": 40,
      "metadata": {
        "colab": {
          "base_uri": "https://localhost:8080/"
        },
        "id": "flPS5_DLp5Lf",
        "outputId": "ed9e5d89-a853-4edc-85a1-66a194d49575"
      },
      "outputs": [
        {
          "output_type": "stream",
          "name": "stdout",
          "text": [
            "Epoch 1/100\n",
            "7/7 [==============================] - ETA: 0s - loss: 0.8369 - accuracy: 0.6484 \n",
            "Epoch 00001: val_accuracy improved from -inf to 0.92500, saving model to /content/gdrive/MyDrive/Colab Notebooks/TugasBesar/model_drop_batch_weight_from_callback_2.h5\n",
            "7/7 [==============================] - 115s 18s/step - loss: 0.8369 - accuracy: 0.6484 - val_loss: 0.5602 - val_accuracy: 0.9250\n",
            "Epoch 2/100\n",
            "7/7 [==============================] - ETA: 0s - loss: 0.4359 - accuracy: 0.7500 \n",
            "Epoch 00002: val_accuracy improved from 0.92500 to 0.97500, saving model to /content/gdrive/MyDrive/Colab Notebooks/TugasBesar/model_drop_batch_weight_from_callback_2.h5\n",
            "7/7 [==============================] - 94s 15s/step - loss: 0.4359 - accuracy: 0.7500 - val_loss: 0.4288 - val_accuracy: 0.9750\n",
            "Epoch 3/100\n",
            "7/7 [==============================] - ETA: 0s - loss: 0.3815 - accuracy: 0.8516 \n",
            "Epoch 00003: val_accuracy did not improve from 0.97500\n",
            "7/7 [==============================] - 92s 14s/step - loss: 0.3815 - accuracy: 0.8516 - val_loss: 0.3607 - val_accuracy: 0.9750\n",
            "Epoch 4/100\n",
            "7/7 [==============================] - ETA: 0s - loss: 0.3203 - accuracy: 0.8672\n",
            "Epoch 00004: val_accuracy improved from 0.97500 to 1.00000, saving model to /content/gdrive/MyDrive/Colab Notebooks/TugasBesar/model_drop_batch_weight_from_callback_2.h5\n",
            "7/7 [==============================] - 92s 13s/step - loss: 0.3203 - accuracy: 0.8672 - val_loss: 0.3284 - val_accuracy: 1.0000\n",
            "Epoch 5/100\n",
            "7/7 [==============================] - ETA: 0s - loss: 0.3743 - accuracy: 0.8203\n",
            "Epoch 00005: val_accuracy did not improve from 1.00000\n",
            "7/7 [==============================] - 93s 14s/step - loss: 0.3743 - accuracy: 0.8203 - val_loss: 0.3077 - val_accuracy: 0.9500\n",
            "Epoch 6/100\n",
            "7/7 [==============================] - ETA: 0s - loss: 0.3246 - accuracy: 0.8516\n",
            "Epoch 00006: val_accuracy did not improve from 1.00000\n",
            "7/7 [==============================] - 92s 13s/step - loss: 0.3246 - accuracy: 0.8516 - val_loss: 0.2939 - val_accuracy: 0.9500\n",
            "Epoch 7/100\n",
            "7/7 [==============================] - ETA: 0s - loss: 0.2213 - accuracy: 0.9141\n",
            "Epoch 00007: val_accuracy did not improve from 1.00000\n",
            "7/7 [==============================] - 92s 13s/step - loss: 0.2213 - accuracy: 0.9141 - val_loss: 0.2919 - val_accuracy: 0.9500\n",
            "Epoch 8/100\n",
            "7/7 [==============================] - ETA: 0s - loss: 0.2663 - accuracy: 0.9141 \n",
            "Epoch 00008: val_accuracy did not improve from 1.00000\n",
            "7/7 [==============================] - 92s 13s/step - loss: 0.2663 - accuracy: 0.9141 - val_loss: 0.2966 - val_accuracy: 0.9500\n",
            "Epoch 9/100\n",
            "7/7 [==============================] - ETA: 0s - loss: 0.2060 - accuracy: 0.9297 \n",
            "Epoch 00009: val_accuracy did not improve from 1.00000\n",
            "7/7 [==============================] - 92s 13s/step - loss: 0.2060 - accuracy: 0.9297 - val_loss: 0.2815 - val_accuracy: 0.9500\n",
            "Epoch 10/100\n",
            "7/7 [==============================] - ETA: 0s - loss: 0.2234 - accuracy: 0.9143 \n",
            "Epoch 00010: val_accuracy did not improve from 1.00000\n",
            "7/7 [==============================] - 99s 14s/step - loss: 0.2234 - accuracy: 0.9143 - val_loss: 0.2762 - val_accuracy: 0.9500\n",
            "Epoch 11/100\n",
            "7/7 [==============================] - ETA: 0s - loss: 0.2188 - accuracy: 0.8906 \n",
            "Epoch 00011: val_accuracy did not improve from 1.00000\n",
            "7/7 [==============================] - 91s 14s/step - loss: 0.2188 - accuracy: 0.8906 - val_loss: 0.2578 - val_accuracy: 0.9500\n",
            "Epoch 12/100\n",
            "7/7 [==============================] - ETA: 0s - loss: 0.2264 - accuracy: 0.8906\n",
            "Epoch 00012: val_accuracy did not improve from 1.00000\n",
            "7/7 [==============================] - 93s 14s/step - loss: 0.2264 - accuracy: 0.8906 - val_loss: 0.2827 - val_accuracy: 0.9000\n",
            "Epoch 13/100\n",
            "7/7 [==============================] - ETA: 0s - loss: 0.2624 - accuracy: 0.9062\n",
            "Epoch 00013: val_accuracy did not improve from 1.00000\n",
            "7/7 [==============================] - 92s 13s/step - loss: 0.2624 - accuracy: 0.9062 - val_loss: 0.3170 - val_accuracy: 0.8500\n",
            "Epoch 14/100\n",
            "7/7 [==============================] - ETA: 0s - loss: 0.2027 - accuracy: 0.9141\n",
            "Epoch 00014: val_accuracy did not improve from 1.00000\n",
            "7/7 [==============================] - 92s 13s/step - loss: 0.2027 - accuracy: 0.9141 - val_loss: 0.2730 - val_accuracy: 0.9250\n",
            "Epoch 15/100\n",
            "7/7 [==============================] - ETA: 0s - loss: 0.2033 - accuracy: 0.9141 \n",
            "Epoch 00015: val_accuracy did not improve from 1.00000\n",
            "7/7 [==============================] - 120s 18s/step - loss: 0.2033 - accuracy: 0.9141 - val_loss: 0.2382 - val_accuracy: 0.9500\n",
            "Epoch 16/100\n",
            "7/7 [==============================] - ETA: 0s - loss: 0.2039 - accuracy: 0.8828\n",
            "Epoch 00016: val_accuracy did not improve from 1.00000\n",
            "7/7 [==============================] - 118s 18s/step - loss: 0.2039 - accuracy: 0.8828 - val_loss: 0.2255 - val_accuracy: 0.9500\n",
            "Epoch 17/100\n",
            "7/7 [==============================] - ETA: 0s - loss: 0.1733 - accuracy: 0.9375\n",
            "Epoch 00017: val_accuracy did not improve from 1.00000\n",
            "7/7 [==============================] - 93s 14s/step - loss: 0.1733 - accuracy: 0.9375 - val_loss: 0.2114 - val_accuracy: 0.9500\n",
            "Epoch 18/100\n",
            "7/7 [==============================] - ETA: 0s - loss: 0.1681 - accuracy: 0.9375\n",
            "Epoch 00018: val_accuracy did not improve from 1.00000\n",
            "7/7 [==============================] - 94s 14s/step - loss: 0.1681 - accuracy: 0.9375 - val_loss: 0.2089 - val_accuracy: 0.9500\n",
            "Epoch 19/100\n",
            "7/7 [==============================] - ETA: 0s - loss: 0.2304 - accuracy: 0.9141 \n",
            "Epoch 00019: val_accuracy did not improve from 1.00000\n",
            "7/7 [==============================] - 113s 17s/step - loss: 0.2304 - accuracy: 0.9141 - val_loss: 0.2015 - val_accuracy: 0.9500\n",
            "Epoch 20/100\n",
            "7/7 [==============================] - ETA: 0s - loss: 0.1325 - accuracy: 0.9375 \n",
            "Epoch 00020: val_accuracy did not improve from 1.00000\n",
            "7/7 [==============================] - 112s 18s/step - loss: 0.1325 - accuracy: 0.9375 - val_loss: 0.1718 - val_accuracy: 0.9500\n",
            "Epoch 21/100\n",
            "7/7 [==============================] - ETA: 0s - loss: 0.1521 - accuracy: 0.9453\n",
            "Epoch 00021: val_accuracy did not improve from 1.00000\n",
            "7/7 [==============================] - 92s 13s/step - loss: 0.1521 - accuracy: 0.9453 - val_loss: 0.1402 - val_accuracy: 0.9500\n",
            "Epoch 22/100\n",
            "7/7 [==============================] - ETA: 0s - loss: 0.2041 - accuracy: 0.9453 \n",
            "Epoch 00022: val_accuracy did not improve from 1.00000\n",
            "7/7 [==============================] - 91s 13s/step - loss: 0.2041 - accuracy: 0.9453 - val_loss: 0.1302 - val_accuracy: 0.9500\n",
            "Epoch 23/100\n",
            "7/7 [==============================] - ETA: 0s - loss: 0.1945 - accuracy: 0.9219\n",
            "Epoch 00023: val_accuracy did not improve from 1.00000\n",
            "7/7 [==============================] - 93s 13s/step - loss: 0.1945 - accuracy: 0.9219 - val_loss: 0.1127 - val_accuracy: 0.9750\n",
            "Epoch 24/100\n",
            "7/7 [==============================] - ETA: 0s - loss: 0.2049 - accuracy: 0.8906\n",
            "Epoch 00024: val_accuracy did not improve from 1.00000\n",
            "7/7 [==============================] - 92s 13s/step - loss: 0.2049 - accuracy: 0.8906 - val_loss: 0.0893 - val_accuracy: 1.0000\n",
            "Epoch 25/100\n",
            "7/7 [==============================] - ETA: 0s - loss: 0.1998 - accuracy: 0.9531 \n",
            "Epoch 00025: val_accuracy did not improve from 1.00000\n",
            "7/7 [==============================] - 93s 15s/step - loss: 0.1998 - accuracy: 0.9531 - val_loss: 0.0779 - val_accuracy: 1.0000\n",
            "Epoch 26/100\n",
            "7/7 [==============================] - ETA: 0s - loss: 0.1566 - accuracy: 0.9500 \n",
            "Epoch 00026: val_accuracy did not improve from 1.00000\n",
            "7/7 [==============================] - 98s 14s/step - loss: 0.1566 - accuracy: 0.9500 - val_loss: 0.0739 - val_accuracy: 1.0000\n",
            "Epoch 27/100\n",
            "7/7 [==============================] - ETA: 0s - loss: 0.0856 - accuracy: 0.9688\n",
            "Epoch 00027: val_accuracy did not improve from 1.00000\n",
            "7/7 [==============================] - 112s 17s/step - loss: 0.0856 - accuracy: 0.9688 - val_loss: 0.0698 - val_accuracy: 1.0000\n",
            "Epoch 28/100\n",
            "7/7 [==============================] - ETA: 0s - loss: 0.1492 - accuracy: 0.9297\n",
            "Epoch 00028: val_accuracy did not improve from 1.00000\n",
            "7/7 [==============================] - 94s 14s/step - loss: 0.1492 - accuracy: 0.9297 - val_loss: 0.0664 - val_accuracy: 1.0000\n",
            "Epoch 29/100\n",
            "7/7 [==============================] - ETA: 0s - loss: 0.1574 - accuracy: 0.9357 \n",
            "Epoch 00029: val_accuracy did not improve from 1.00000\n",
            "7/7 [==============================] - 118s 18s/step - loss: 0.1574 - accuracy: 0.9357 - val_loss: 0.0631 - val_accuracy: 1.0000\n",
            "Epoch 30/100\n",
            "7/7 [==============================] - ETA: 0s - loss: 0.1309 - accuracy: 0.9609\n",
            "Epoch 00030: val_accuracy did not improve from 1.00000\n",
            "7/7 [==============================] - 93s 13s/step - loss: 0.1309 - accuracy: 0.9609 - val_loss: 0.0648 - val_accuracy: 1.0000\n",
            "Epoch 31/100\n",
            "7/7 [==============================] - ETA: 0s - loss: 0.1437 - accuracy: 0.9297\n",
            "Epoch 00031: val_accuracy did not improve from 1.00000\n",
            "7/7 [==============================] - 92s 13s/step - loss: 0.1437 - accuracy: 0.9297 - val_loss: 0.0646 - val_accuracy: 1.0000\n",
            "Epoch 32/100\n",
            "7/7 [==============================] - ETA: 0s - loss: 0.1078 - accuracy: 0.9531\n",
            "Epoch 00032: val_accuracy did not improve from 1.00000\n",
            "7/7 [==============================] - 93s 14s/step - loss: 0.1078 - accuracy: 0.9531 - val_loss: 0.0623 - val_accuracy: 1.0000\n",
            "Epoch 33/100\n",
            "7/7 [==============================] - ETA: 0s - loss: 0.1496 - accuracy: 0.9219\n",
            "Epoch 00033: val_accuracy did not improve from 1.00000\n",
            "7/7 [==============================] - 92s 13s/step - loss: 0.1496 - accuracy: 0.9219 - val_loss: 0.0621 - val_accuracy: 1.0000\n",
            "Epoch 34/100\n",
            "7/7 [==============================] - ETA: 0s - loss: 0.1266 - accuracy: 0.9531\n",
            "Epoch 00034: val_accuracy did not improve from 1.00000\n",
            "7/7 [==============================] - 95s 14s/step - loss: 0.1266 - accuracy: 0.9531 - val_loss: 0.0665 - val_accuracy: 1.0000\n",
            "Epoch 35/100\n",
            "7/7 [==============================] - ETA: 0s - loss: 0.1515 - accuracy: 0.9286 \n",
            "Epoch 00035: val_accuracy did not improve from 1.00000\n",
            "7/7 [==============================] - 97s 14s/step - loss: 0.1515 - accuracy: 0.9286 - val_loss: 0.0766 - val_accuracy: 0.9500\n",
            "Epoch 36/100\n",
            "7/7 [==============================] - ETA: 0s - loss: 0.1386 - accuracy: 0.9531 \n",
            "Epoch 00036: val_accuracy did not improve from 1.00000\n",
            "7/7 [==============================] - 91s 14s/step - loss: 0.1386 - accuracy: 0.9531 - val_loss: 0.1049 - val_accuracy: 0.9500\n",
            "Epoch 37/100\n",
            "7/7 [==============================] - ETA: 0s - loss: 0.2016 - accuracy: 0.9141\n",
            "Epoch 00037: val_accuracy did not improve from 1.00000\n",
            "7/7 [==============================] - 92s 13s/step - loss: 0.2016 - accuracy: 0.9141 - val_loss: 0.1171 - val_accuracy: 0.9500\n",
            "Epoch 38/100\n",
            "7/7 [==============================] - ETA: 0s - loss: 0.1513 - accuracy: 0.9375\n",
            "Epoch 00038: val_accuracy did not improve from 1.00000\n",
            "7/7 [==============================] - 92s 13s/step - loss: 0.1513 - accuracy: 0.9375 - val_loss: 0.0897 - val_accuracy: 0.9500\n",
            "Epoch 39/100\n",
            "7/7 [==============================] - ETA: 0s - loss: 0.1545 - accuracy: 0.9609 \n",
            "Epoch 00039: val_accuracy did not improve from 1.00000\n",
            "7/7 [==============================] - 92s 13s/step - loss: 0.1545 - accuracy: 0.9609 - val_loss: 0.0782 - val_accuracy: 0.9750\n",
            "Epoch 40/100\n",
            "7/7 [==============================] - ETA: 0s - loss: 0.1681 - accuracy: 0.9531 \n",
            "Epoch 00040: val_accuracy did not improve from 1.00000\n",
            "7/7 [==============================] - 92s 13s/step - loss: 0.1681 - accuracy: 0.9531 - val_loss: 0.0679 - val_accuracy: 1.0000\n",
            "Epoch 41/100\n",
            "7/7 [==============================] - ETA: 0s - loss: 0.0899 - accuracy: 0.9609\n",
            "Epoch 00041: val_accuracy did not improve from 1.00000\n",
            "7/7 [==============================] - 93s 14s/step - loss: 0.0899 - accuracy: 0.9609 - val_loss: 0.0667 - val_accuracy: 1.0000\n",
            "Epoch 42/100\n",
            "7/7 [==============================] - ETA: 0s - loss: 0.1918 - accuracy: 0.9286 \n",
            "Epoch 00042: val_accuracy did not improve from 1.00000\n",
            "7/7 [==============================] - 98s 14s/step - loss: 0.1918 - accuracy: 0.9286 - val_loss: 0.0657 - val_accuracy: 1.0000\n",
            "Epoch 43/100\n",
            "7/7 [==============================] - ETA: 0s - loss: 0.2305 - accuracy: 0.9062\n",
            "Epoch 00043: val_accuracy did not improve from 1.00000\n",
            "7/7 [==============================] - 91s 13s/step - loss: 0.2305 - accuracy: 0.9062 - val_loss: 0.0948 - val_accuracy: 0.9500\n",
            "Epoch 44/100\n",
            "7/7 [==============================] - ETA: 0s - loss: 0.1298 - accuracy: 0.9688\n",
            "Epoch 00044: val_accuracy did not improve from 1.00000\n",
            "7/7 [==============================] - 92s 13s/step - loss: 0.1298 - accuracy: 0.9688 - val_loss: 0.1265 - val_accuracy: 0.9500\n",
            "Epoch 45/100\n",
            "7/7 [==============================] - ETA: 0s - loss: 0.2484 - accuracy: 0.9062 \n",
            "Epoch 00045: val_accuracy did not improve from 1.00000\n",
            "7/7 [==============================] - 91s 14s/step - loss: 0.2484 - accuracy: 0.9062 - val_loss: 0.1578 - val_accuracy: 0.9500\n",
            "Epoch 46/100\n",
            "7/7 [==============================] - ETA: 0s - loss: 0.0849 - accuracy: 0.9766\n",
            "Epoch 00046: val_accuracy did not improve from 1.00000\n",
            "7/7 [==============================] - 91s 13s/step - loss: 0.0849 - accuracy: 0.9766 - val_loss: 0.1626 - val_accuracy: 0.9500\n",
            "Epoch 47/100\n",
            "7/7 [==============================] - ETA: 0s - loss: 0.1320 - accuracy: 0.9688\n",
            "Epoch 00047: val_accuracy did not improve from 1.00000\n",
            "7/7 [==============================] - 112s 17s/step - loss: 0.1320 - accuracy: 0.9688 - val_loss: 0.1951 - val_accuracy: 0.9500\n",
            "Epoch 48/100\n",
            "7/7 [==============================] - ETA: 0s - loss: 0.0810 - accuracy: 0.9688 \n",
            "Epoch 00048: val_accuracy did not improve from 1.00000\n",
            "7/7 [==============================] - 92s 15s/step - loss: 0.0810 - accuracy: 0.9688 - val_loss: 0.1935 - val_accuracy: 0.9500\n",
            "Epoch 00048: early stopping\n"
          ]
        }
      ],
      "source": [
        "history = VGG16_model.fit(\n",
        "      train_generator,\n",
        "      steps_per_epoch=7,  # images = batch_size * steps\n",
        "      epochs=100,\n",
        "      validation_data=validation_generator,\n",
        "      validation_steps=2,  #  images = batch_size * steps\n",
        "      callbacks = [callbacks, best_model])"
      ]
    },
    {
      "cell_type": "code",
      "execution_count": 41,
      "metadata": {
        "colab": {
          "base_uri": "https://localhost:8080/",
          "height": 551
        },
        "id": "dQXMp4HQp58k",
        "outputId": "fb053b38-bf3f-4ad0-ecb9-afafc10a64a3"
      },
      "outputs": [
        {
          "output_type": "display_data",
          "data": {
            "image/png": "[encoded data removed]",
            "text/plain": [
              "<Figure size 432x288 with 1 Axes>"
            ]
          },
          "metadata": {}
        },
        {
          "output_type": "display_data",
          "data": {
            "image/png": "[encoded data removed]",
            "text/plain": [
              "<Figure size 432x288 with 1 Axes>"
            ]
          },
          "metadata": {}
        }
      ],
      "source": [
        "import matplotlib.pyplot as plt\n",
        "acc = history.history['accuracy']\n",
        "val_acc = history.history['val_accuracy']\n",
        "loss = history.history['loss']\n",
        "val_loss = history.history['val_loss']\n",
        "\n",
        "epochs = range(len(acc))\n",
        "\n",
        "plt.plot(epochs, acc, 'bo', label='Training accuracy')\n",
        "plt.plot(epochs, val_acc, 'b', label='Validation accuracy')\n",
        "plt.title('Training and validation accuracy')\n",
        "\n",
        "plt.figure()\n",
        "\n",
        "plt.plot(epochs, loss, 'bo', label='Training Loss')\n",
        "plt.plot(epochs, val_loss, 'b', label='Validation Loss')\n",
        "plt.title('Training and validation loss')\n",
        "plt.legend()\n",
        "\n",
        "plt.show()"
      ]
    },
    {
      "cell_type": "code",
      "execution_count": 42,
      "metadata": {
        "id": "4QRrasKwqDHp"
      },
      "outputs": [],
      "source": [
        "# import some of library that we need to look the confusion matrix, recall, f1_score, and accuracy score to look how much your model is well\n",
        "import numpy as np \n",
        "from keras.preprocessing.image import ImageDataGenerator\n",
        "import matplotlib.pyplot as plt\n",
        "from sklearn.metrics import f1_score, recall_score, accuracy_score\n",
        "from sklearn.metrics import precision_score, confusion_matrix, classification_report\n",
        "from sklearn import metrics\n",
        "\n",
        "import seaborn as sns\n",
        "sns.set(style='whitegrid')"
      ]
    },
    {
      "cell_type": "code",
      "source": [
        "# loading model to evaluate more depth\n",
        "from keras.models import load_model\n",
        "model_path =  '/content/gdrive/MyDrive/Colab Notebooks/TugasBesar/model_drop_batch_weight_from_callback_2.h5'\n",
        "model = load_model(model_path)"
      ],
      "metadata": {
        "id": "SaqU0PjMJKe_"
      },
      "execution_count": 43,
      "outputs": []
    },
    {
      "cell_type": "code",
      "source": [
        "def my_metrics(y_true, y_pred):\n",
        "    accuracy=accuracy_score(y_true, y_pred)\n",
        "    precision=precision_score(y_true, y_pred,average='weighted')\n",
        "    f1Score=f1_score(y_true, y_pred, average='weighted') \n",
        "    print(\"Accuracy  : {}\".format(accuracy))\n",
        "    print(\"Precision : {}\".format(precision))\n",
        "    print(\"f1Score : {}\".format(f1Score))\n",
        "    cm=confusion_matrix(y_true, y_pred)\n",
        "    print(cm)\n",
        "    return accuracy, precision, f1Score\n",
        "\n",
        "height=224; width=224\n",
        "batch_size=20\n",
        "\n",
        "test_datagen = ImageDataGenerator(rescale=1./255)\n",
        "\n",
        "TESTING_DIR = val_dir\n",
        "\n",
        "test_generator = test_datagen.flow_from_directory(TESTING_DIR,\n",
        "                                                  batch_size=batch_size,                                                             \n",
        "                                                  target_size=(height, width),\n",
        "                                                  class_mode= None,\n",
        "                                                  shuffle=False\n",
        "                                                  )\n",
        "\n",
        "predictions = model.predict_generator(generator=test_generator)\n",
        "yPredictions = predictions > 0.5\n",
        "true_classes = test_generator.classes\n",
        "class_names = test_generator.class_indices\n",
        "Cmatrix_test = confusion_matrix(true_classes, yPredictions)\n",
        "\n",
        "testAcc,testPrec, testFScore = my_metrics(true_classes, yPredictions)\n",
        "\n",
        "plt.figure(figsize=(20,20))\n",
        "ax= plt.subplot()\n",
        "data = np.asarray(Cmatrix_test).reshape(2,2)\n",
        "sns.heatmap(data,annot=True, fmt='',ax=ax, cmap=plt.cm.Reds)\n",
        "ax.set_xlabel('Predicted labels')\n",
        "ax.set_ylabel('True labels') \n",
        "ax.set_title('Confusion Matrix')\n",
        "ax.xaxis.set_ticklabels(class_names)   \n",
        "ax.yaxis.set_ticklabels(class_names)\n",
        "plt.title('Confusion Matrix Test',fontsize=14)\n",
        "plt.show()"
      ],
      "metadata": {
        "id": "HG0wzGrvJN1_",
        "outputId": "f39ba750-eb53-4362-d0fa-0d6a9f42dc6e",
        "colab": {
          "base_uri": "https://localhost:8080/",
          "height": 1000
        }
      },
      "execution_count": 44,
      "outputs": [
        {
          "output_type": "stream",
          "name": "stdout",
          "text": [
            "Found 40 images belonging to 2 classes.\n"
          ]
        },
        {
          "output_type": "stream",
          "name": "stderr",
          "text": [
            "/usr/local/lib/python3.7/dist-packages/ipykernel_launcher.py:26: UserWarning: `Model.predict_generator` is deprecated and will be removed in a future version. Please use `Model.predict`, which supports generators.\n"
          ]
        },
        {
          "output_type": "stream",
          "name": "stdout",
          "text": [
            "Accuracy  : 1.0\n",
            "Precision : 1.0\n",
            "f1Score : 1.0\n",
            "[[20  0]\n",
            " [ 0 20]]\n"
          ]
        },
        {
          "output_type": "display_data",
          "data": {
            "image/png": "[encoded data removed]",
            "text/plain": [
              "<Figure size 1440x1440 with 2 Axes>"
            ]
          },
          "metadata": {}
        }
      ]
    },
    {
      "cell_type": "code",
      "source": [
        "from sklearn.metrics import classification_report\n",
        "print(classification_report(true_classes, yPredictions, target_names=class_names))"
      ],
      "metadata": {
        "id": "oeKBNGIDJUOe",
        "outputId": "cc7c4b45-4c63-471c-dc45-d04fddfc0f71",
        "colab": {
          "base_uri": "https://localhost:8080/"
        }
      },
      "execution_count": 45,
      "outputs": [
        {
          "output_type": "stream",
          "name": "stdout",
          "text": [
            "              precision    recall  f1-score   support\n",
            "\n",
            "      NORMAL       1.00      1.00      1.00        20\n",
            "   PNEUMONIA       1.00      1.00      1.00        20\n",
            "\n",
            "    accuracy                           1.00        40\n",
            "   macro avg       1.00      1.00      1.00        40\n",
            "weighted avg       1.00      1.00      1.00        40\n",
            "\n"
          ]
        }
      ]
    }
  ],
  "metadata": {
    "colab": {
      "collapsed_sections": [],
      "name": "TubesAI.ipynb",
      "provenance": []
    },
    "kernelspec": {
      "display_name": "Python 3",
      "name": "python3"
    },
    "language_info": {
      "name": "python"
    }
  },
  "nbformat": 4,
  "nbformat_minor": 0
}